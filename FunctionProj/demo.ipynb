{
 "cells": [
  {
   "cell_type": "markdown",
   "source": [
    "## Demo\n",
    "\n",
    "### Jupyter notebook\n",
    "#### 1、Lambda函数"
   ],
   "metadata": {
    "collapsed": false,
    "pycharm": {
     "name": "#%% md\n"
    }
   }
  },
  {
   "cell_type": "code",
   "execution_count": 1,
   "outputs": [
    {
     "name": "stdout",
     "output_type": "stream",
     "text": [
      "2\n",
      "4\n",
      "6\n",
      "8\n",
      "10\n",
      "12\n",
      "14\n",
      "16\n",
      "18\n",
      "20\n"
     ]
    }
   ],
   "source": [
    "def short_function(x1):\n",
    "    return x1*2\n",
    "\n",
    "equiv_anon = lambda x2: x2 * 2\n",
    "for i in range(1,11):\n",
    "    print(equiv_anon(i))"
   ],
   "metadata": {
    "collapsed": false,
    "pycharm": {
     "name": "#%% lambda式\n"
    }
   }
  },
  {
   "cell_type": "code",
   "execution_count": 2,
   "outputs": [
    {
     "name": "stdout",
     "output_type": "stream",
     "text": [
      "1 is odd\n",
      "4 is even\n",
      "7 is odd\n",
      "10 is even\n",
      "13 is odd\n",
      "16 is even\n",
      "19 is odd\n"
     ]
    }
   ],
   "source": [
    "odd_even = lambda x3:'even'if x3%2==0 else 'odd'\n",
    "for j in range(1,20,3):\n",
    "    print(j,'is', odd_even(j))"
   ],
   "metadata": {
    "collapsed": false,
    "pycharm": {
     "name": "#%% 使用if条件文  三项表达式\n"
    }
   }
  },
  {
   "cell_type": "code",
   "execution_count": 3,
   "outputs": [
    {
     "name": "stdout",
     "output_type": "stream",
     "text": [
      "0.5730542475525\n",
      "0.6809541517564753\n",
      "0.33262293767992035\n",
      "0.777645518691857\n",
      "0.40365074148109326\n",
      "0.7761926494575049\n",
      "0.5358776143991902\n",
      "0.5225901655824642\n",
      "0.17599166801852462\n",
      "0.018728059380249795\n"
     ]
    }
   ],
   "source": [
    "import random\n",
    "\n",
    "random_lambda = lambda:random.random()\n",
    "for e in range(10):\n",
    "    print(random_lambda())"
   ],
   "metadata": {
    "collapsed": false,
    "pycharm": {
     "name": "#%% 无参数表达式\n"
    }
   }
  },
  {
   "cell_type": "code",
   "execution_count": 4,
   "outputs": [
    {
     "name": "stdout",
     "output_type": "stream",
     "text": [
      "[1, 4, 9, 16, 25]\n"
     ]
    }
   ],
   "source": [
    "m = map(lambda x4:x4**2, [1,2,3,4,5])\n",
    "print(list(m))"
   ],
   "metadata": {
    "collapsed": false,
    "pycharm": {
     "name": "#%% map()\n"
    }
   }
  },
  {
   "cell_type": "markdown",
   "source": [
    "#### 2、柯里(Haskell Curry)化"
   ],
   "metadata": {
    "collapsed": false
   }
  },
  {
   "cell_type": "code",
   "execution_count": 5,
   "outputs": [],
   "source": [
    "def add_numbers(x6,y):\n",
    "    return x6+y\n",
    "add_five = lambda x7:add_numbers(x7,5)\n",
    "\n",
    "# form functools import partial\n",
    "# add_five = partial(add_numbers, 5)"
   ],
   "metadata": {
    "collapsed": false,
    "pycharm": {
     "name": "#%%\n"
    }
   }
  },
  {
   "cell_type": "markdown",
   "source": [
    "#### 3、生成器"
   ],
   "metadata": {
    "collapsed": false,
    "pycharm": {
     "name": "#%% md\n"
    }
   }
  },
  {
   "cell_type": "code",
   "execution_count": 6,
   "outputs": [
    {
     "name": "stdout",
     "output_type": "stream",
     "text": [
      "Generating squares from 1 to 100\n",
      "149162536496481100"
     ]
    }
   ],
   "source": [
    "# dic ={'a': 1, 'b': 2, 'c': 3}\n",
    "# for key in dic:\n",
    "#     print(key)\n",
    "\n",
    "def squares(n=10):\n",
    "    print('Generating squares from 1 to {0}'.format(n ** 2))\n",
    "    for it in range(1, n+1):\n",
    "        yield it**2\n",
    "gen = squares()\n",
    "\n",
    "for x in gen:\n",
    "    print(x,end='')"
   ],
   "metadata": {
    "collapsed": false,
    "pycharm": {
     "name": "#%%\n"
    }
   }
  },
  {
   "cell_type": "code",
   "execution_count": 7,
   "outputs": [
    {
     "data": {
      "text/plain": "328350"
     },
     "execution_count": 7,
     "metadata": {},
     "output_type": "execute_result"
    }
   ],
   "source": [
    "# 生成器表达式\n",
    "\n",
    "g = (x ** 2 for x in range(100))\n",
    "def _make_g():\n",
    "    for x0 in range(100):\n",
    "        yield x0 ** 2\n",
    "ge = _make_g()\n",
    "\n",
    "sum(x ** 2 for x in range(100))"
   ],
   "metadata": {
    "collapsed": false,
    "pycharm": {
     "name": "#%%\n"
    }
   }
  },
  {
   "cell_type": "code",
   "execution_count": 8,
   "outputs": [
    {
     "data": {
      "text/plain": "{0: 0, 1: 1, 2: 4, 3: 9, 4: 16}"
     },
     "execution_count": 8,
     "metadata": {},
     "output_type": "execute_result"
    }
   ],
   "source": [
    "dict((i, i ** 2) for i in range(5))\n"
   ],
   "metadata": {
    "collapsed": false,
    "pycharm": {
     "name": "#%%\n"
    }
   }
  },
  {
   "cell_type": "code",
   "execution_count": 9,
   "outputs": [
    {
     "name": "stdout",
     "output_type": "stream",
     "text": [
      "A ['Alan', 'Adam']\n",
      "W ['Wes', 'Will']\n",
      "A ['Albert']\n",
      "S ['Steven']\n"
     ]
    }
   ],
   "source": [
    "import itertools\n",
    "\n",
    "first_letter = lambda x12: x12[0]\n",
    "names = ['Alan', 'Adam', 'Wes', 'Will', 'Albert', 'Steven']\n",
    "for letter, names in itertools.groupby(names, first_letter):\n",
    "    print(letter, list(names))"
   ],
   "metadata": {
    "collapsed": false,
    "pycharm": {
     "name": "#%% itertools模块\n"
    }
   }
  },
  {
   "cell_type": "markdown",
   "source": [
    "#### 4、错误和异常处理"
   ],
   "metadata": {
    "collapsed": false,
    "pycharm": {
     "name": "#%% md\n"
    }
   }
  },
  {
   "cell_type": "code",
   "execution_count": 10,
   "outputs": [
    {
     "name": "stdout",
     "output_type": "stream",
     "text": [
      "1.2345\n"
     ]
    },
    {
     "data": {
      "text/plain": "'something'"
     },
     "execution_count": 10,
     "metadata": {},
     "output_type": "execute_result"
    }
   ],
   "source": [
    "# print(float('1.2345'))\n",
    "\n",
    "# float('something')     ValueError: could not convert string to float: 'something'\n",
    "\n",
    "def attempt_float(num):\n",
    "    try:\n",
    "        return float(num)\n",
    "    except:\n",
    "        return num\n",
    "\n",
    "print(attempt_float('1.2345'))\n",
    "attempt_float('something')"
   ],
   "metadata": {
    "collapsed": false,
    "pycharm": {
     "name": "#%%\n"
    }
   }
  },
  {
   "cell_type": "code",
   "execution_count": 11,
   "outputs": [],
   "source": [
    "def attempt_float(num):\n",
    "    try:\n",
    "        return float(num)\n",
    "    except (TypeError, ValueError):\n",
    "        return num"
   ],
   "metadata": {
    "collapsed": false,
    "pycharm": {
     "name": "#%%\n"
    }
   }
  },
  {
   "cell_type": "code",
   "execution_count": 12,
   "outputs": [
    {
     "name": "stdout",
     "output_type": "stream",
     "text": [
      "Succeeded\n"
     ]
    }
   ],
   "source": [
    "f = open('path.txt', 'w')\n",
    "def write_to_file(f):\n",
    "    pass\n",
    "\n",
    "try:\n",
    "    write_to_file(f)\n",
    "except:\n",
    "    print('Failed')\n",
    "else:\n",
    "    print('Succeeded')\n",
    "finally:\n",
    "    f.close()"
   ],
   "metadata": {
    "collapsed": false,
    "pycharm": {
     "name": "#%%\n"
    }
   }
  },
  {
   "cell_type": "markdown",
   "source": [
    "#### 5、IPython中的异常\n",
    "%run\n",
    "%xmode\n",
    "%debug\n",
    "%dpb\n"
   ],
   "metadata": {
    "collapsed": false,
    "pycharm": {
     "name": "#%% md\n"
    }
   }
  },
  {
   "cell_type": "markdown",
   "source": [
    "## 文件与操作系统"
   ],
   "metadata": {
    "collapsed": false,
    "pycharm": {
     "name": "#%% md\n"
    }
   }
  },
  {
   "cell_type": "code",
   "execution_count": 17,
   "outputs": [],
   "source": [
    "\n",
    "path1 = 'demo01.txt'\n",
    "file1 = open(path1,'wb')\n",
    "file1.close()"
   ],
   "metadata": {
    "collapsed": false,
    "pycharm": {
     "name": "#%%\n"
    }
   }
  },
  {
   "cell_type": "code",
   "execution_count": 18,
   "outputs": [],
   "source": [
    "path2 = 'data.csv'\n",
    "file2 = open(path2, 'wb')\n",
    "file2.close()"
   ],
   "metadata": {
    "collapsed": false,
    "pycharm": {
     "name": "#%%\n"
    }
   }
  },
  {
   "cell_type": "code",
   "execution_count": 1,
   "outputs": [],
   "source": [
    "with open('Demo.txt','r') as f:\n",
    "    lines = [x.rstrip() for x in f]"
   ],
   "metadata": {
    "collapsed": false,
    "pycharm": {
     "name": "#%%  with语句\n"
    }
   }
  },
  {
   "cell_type": "code",
   "execution_count": null,
   "outputs": [],
   "source": [],
   "metadata": {
    "collapsed": false,
    "pycharm": {
     "name": "#%%"
    }
   }
  }
 ],
 "metadata": {
  "kernelspec": {
   "name": "python3",
   "language": "python",
   "display_name": "Python 3"
  },
  "language_info": {
   "codemirror_mode": {
    "name": "ipython",
    "version": 2
   },
   "file_extension": ".py",
   "mimetype": "text/x-python",
   "name": "python",
   "nbconvert_exporter": "python",
   "pygments_lexer": "ipython2",
   "version": "2.7.6"
  }
 },
 "nbformat": 4,
 "nbformat_minor": 0
}